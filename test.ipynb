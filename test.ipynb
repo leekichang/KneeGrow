{
 "cells": [
  {
   "cell_type": "code",
   "execution_count": 1,
   "metadata": {},
   "outputs": [
    {
     "name": "stdout",
     "output_type": "stream",
     "text": [
      "Error: 동영상 파일을 열 수 없습니다.\n"
     ]
    },
    {
     "name": "stderr",
     "output_type": "stream",
     "text": [
      "OpenCV: Couldn't read video stream from file \"./data/2023-07-26/IMG_4174.mov\"\n"
     ]
    }
   ],
   "source": [
    "import os\n",
    "import cv2\n",
    "\n",
    "def save_frames_as_images(input_file, output_path):\n",
    "    \"\"\"\n",
    "    동영상 파일의 프레임을 이미지로 저장하는 함수\n",
    "    \n",
    "    Parameters:\n",
    "        input_file (str): 입력 동영상 파일 경로 (예: 'video.mov')\n",
    "        output_path (str): 이미지를 저장할 디렉토리 경로 (예: './frames/')\n",
    "    \"\"\"\n",
    "    # VideoCapture 객체 생성\n",
    "    cap = cv2.VideoCapture(input_file)\n",
    "    \n",
    "    # 동영상 파일이 올바르게 열렸는지 확인\n",
    "    if not cap.isOpened():\n",
    "        print(\"Error: 동영상 파일을 열 수 없습니다.\")\n",
    "        return\n",
    "    \n",
    "    # 프레임 수와 해상도 정보 가져오기\n",
    "    frame_count = int(cap.get(cv2.CAP_PROP_FRAME_COUNT))\n",
    "    frame_width = int(cap.get(cv2.CAP_PROP_FRAME_WIDTH))\n",
    "    frame_height = int(cap.get(cv2.CAP_PROP_FRAME_HEIGHT))\n",
    "    \n",
    "    # 저장할 이미지 파일 경로 설정\n",
    "    file_name = input_file.split('/')[-1].split('.')[0]  # 파일 이름 추출 (확장자 제외)\n",
    "    image_file_format = '.jpg'  # 이미지 파일 형식 (확장자)\n",
    "    \n",
    "    # 이미지 저장 디렉토리 생성\n",
    "    if not os.path.exists(output_path):\n",
    "        os.makedirs(output_path)\n",
    "    \n",
    "    # 프레임별로 이미지 저장\n",
    "    for frame_number in range(frame_count):\n",
    "        # 프레임 읽기\n",
    "        ret, frame = cap.read()\n",
    "        if not ret:\n",
    "            print(f\"Error: 프레임 {frame_number}을 읽을 수 없습니다.\")\n",
    "            continue\n",
    "        \n",
    "        # 이미지 저장\n",
    "        image_file_path = os.path.join(output_path, f\"{file_name}_{frame_number:04d}{image_file_format}\")\n",
    "        cv2.imwrite(image_file_path, frame)\n",
    "    \n",
    "    # VideoCapture 객체 해제\n",
    "    cap.release()\n",
    "    print(f\"프레임별 이미지 저장이 완료되었습니다. 총 {frame_count}개의 이미지가 저장되었습니다.\")\n",
    "\n",
    "# 동영상 파일 경로와 이미지 저장 디렉토리 경로 설정\n",
    "path = './data'\n",
    "date = '2023-07-26'\n",
    "input_video_file = f'{path}/{date}/IMG_4174.mov'\n",
    "output_image_path = f'{path}/{date}/frames/'\n",
    "\n",
    "# 프레임을 이미지로 저장\n",
    "save_frames_as_images(input_video_file, output_image_path)"
   ]
  },
  {
   "cell_type": "code",
   "execution_count": 2,
   "metadata": {},
   "outputs": [
    {
     "name": "stdout",
     "output_type": "stream",
     "text": [
      "Error: 동영상 파일을 열 수 없습니다.\n"
     ]
    },
    {
     "name": "stderr",
     "output_type": "stream",
     "text": [
      "OpenCV: Couldn't read video stream from file \"./data/2023-07-26/videos/IMG_4174.mov\"\n"
     ]
    }
   ],
   "source": [
    "def save_frames_as_images_with_lower_frame_rate(input_file, output_path, frame_rate_divisor=2):\n",
    "    \"\"\"\n",
    "    동영상 파일의 frame rate를 낮추어 프레임을 이미지로 저장하는 함수\n",
    "    \n",
    "    Parameters:\n",
    "        input_file (str): 입력 동영상 파일 경로 (예: 'video.mov')\n",
    "        output_path (str): 이미지를 저장할 디렉토리 경로 (예: './frames/')\n",
    "        frame_rate_divisor (int): frame rate를 낮추기 위한 간격 (기본값: 2)\n",
    "    \"\"\"\n",
    "    # VideoCapture 객체 생성\n",
    "    cap = cv2.VideoCapture(input_file)\n",
    "    \n",
    "    # 동영상 파일이 올바르게 열렸는지 확인\n",
    "    if not cap.isOpened():\n",
    "        print(\"Error: 동영상 파일을 열 수 없습니다.\")\n",
    "        return\n",
    "    \n",
    "    # 프레임 수와 해상도 정보 가져오기\n",
    "    frame_count = int(cap.get(cv2.CAP_PROP_FRAME_COUNT))\n",
    "    frame_width = int(cap.get(cv2.CAP_PROP_FRAME_WIDTH))\n",
    "    frame_height = int(cap.get(cv2.CAP_PROP_FRAME_HEIGHT))\n",
    "    \n",
    "    # 저장할 이미지 파일 경로 설정\n",
    "    file_name = input_file.split('/')[-1].split('.')[0]  # 파일 이름 추출 (확장자 제외)\n",
    "    image_file_format = '.jpg'  # 이미지 파일 형식 (확장자)\n",
    "    \n",
    "    # 이미지 저장 디렉토리 생성\n",
    "    if not os.path.exists(output_path):\n",
    "        os.makedirs(output_path)\n",
    "    \n",
    "    # 프레임별로 이미지 저장 (frame_rate_divisor만큼 간격으로 저장)\n",
    "    frame_number = 0\n",
    "    while True:\n",
    "        # 프레임 읽기\n",
    "        ret, frame = cap.read()\n",
    "        if not ret:\n",
    "            break  # 프레임을 더 이상 읽을 수 없으면 종료\n",
    "        \n",
    "        # frame_rate_divisor만큼 간격으로 이미지 저장\n",
    "        if frame_number % frame_rate_divisor == 0:\n",
    "            image_file_path = os.path.join(output_path, f\"{file_name}_{frame_number:04d}{image_file_format}\")\n",
    "            cv2.imwrite(image_file_path, frame)\n",
    "        \n",
    "        frame_number += 1\n",
    "    \n",
    "    # VideoCapture 객체 해제\n",
    "    cap.release()\n",
    "    print(f\"프레임별 이미지 저장이 완료되었습니다. 총 {frame_number // frame_rate_divisor}개의 이미지가 저장되었습니다.\")\n",
    "\n",
    "# 동영상 파일 경로와 이미지 저장 디렉토리 경로 설정\n",
    "input_video_file = f'{path}/{date}/videos/IMG_4174.mov'\n",
    "output_image_path = f'{path}/{date}/frames/'\n",
    "\n",
    "# frame rate를 낮춰 프레임을 이미지로 저장 (frame_rate_divisor를 조정하여 frame rate 조절)\n",
    "frame_rate_divisor = 5  # frame rate를 낮추기 위한 간격\n",
    "save_frames_as_images_with_lower_frame_rate(input_video_file, output_image_path, frame_rate_divisor)\n"
   ]
  },
  {
   "cell_type": "code",
   "execution_count": 2,
   "metadata": {},
   "outputs": [],
   "source": [
    "import argparse\n",
    "def parse_args():\n",
    "    parser = argparse.ArgumentParser()\n",
    "    # default arguments\n",
    "    parser.add_argument('--date', help='date of video (YYYY-MM-DD)', type=str, default='2023-07-26')\n",
    "    args = parser.parse_args(args=[])\n",
    "    return args"
   ]
  },
  {
   "cell_type": "code",
   "execution_count": 4,
   "metadata": {},
   "outputs": [],
   "source": [
    "import os\n",
    "import pickle\n",
    "\n",
    "args = parse_args()\n",
    "path = f'./data/{args.date}'\n",
    "\n",
    "ROMs, points = [], []\n",
    "files = [file for file in os.listdir(f'{path}/anno') if file.endswith('.pickle')]\n",
    "for idx, file in enumerate(files):\n",
    "    with open(file=f'{path}/anno/{file}', mode='rb') as f:\n",
    "        info = pickle.load(f)\n",
    "    print(info)\n",
    "    info['points'] = info['points'][idx][idx]\n",
    "    print(info)\n",
    "    # with open(file=f'{path}/anno/{file}', mode= 'wb') as f:\n",
    "    #     pickle.dump(info, f, protocol=pickle.HIGHEST_PROTOCOL)"
   ]
  },
  {
   "cell_type": "code",
   "execution_count": null,
   "metadata": {},
   "outputs": [],
   "source": []
  }
 ],
 "metadata": {
  "kernelspec": {
   "display_name": "base",
   "language": "python",
   "name": "python3"
  },
  "language_info": {
   "codemirror_mode": {
    "name": "ipython",
    "version": 3
   },
   "file_extension": ".py",
   "mimetype": "text/x-python",
   "name": "python",
   "nbconvert_exporter": "python",
   "pygments_lexer": "ipython3",
   "version": "3.11.1"
  },
  "orig_nbformat": 4
 },
 "nbformat": 4,
 "nbformat_minor": 2
}
